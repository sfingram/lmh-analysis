{
 "cells": [
  {
   "cell_type": "markdown",
   "metadata": {},
   "source": [
    "# An analysis of tracks played by the Legacy Music Hour\n",
    "\n",
    "The Legacy Music Hour is a podcast devoted to tracks from the 8-bit and 16-bit videogame consoles.  It is hosted by two comedians, Rob F. Switch and Brent Weinbach, who show sincere enthusiasm for the music. In the course of listening to it over the years, I've developed a lot of affection for the show.  The podcast has over 150 episodes, showcasing well over 2000 tracks.  \n",
    "\n",
    "Before every episode, the hosts upload its full track listing, with game, system, and composer information.  I decided to write some code to pull all this information into a data frame and do some analysis to see what this track data says.\n",
    "\n",
    "## Downloading and cleaning the tracks\n",
    "\n",
    "This section details how I downloaded the data and checked for errors in the records.  Feel free to skip to the analysis section for the more interesting.  I leave this as a record of the trouble one usually has to go to in getting the right data!\n",
    "\n",
    "### Pulling the track data\n",
    "\n",
    "First, we will pull all of the track data from the LMH Blogger website."
   ]
  },
  {
   "cell_type": "code",
   "execution_count": 5,
   "metadata": {
    "collapsed": true
   },
   "outputs": [],
   "source": [
    "import re\n",
    "def lmh_standardize_whitespace(text):\n",
    "    \"\"\" \n",
    "    There is some nonuniformity in the episode descriptions of line breaks.\n",
    "    some this routine standardizes the line breaks to simply be newlines\n",
    "    while this breaks the html for display, it helps with parsing.\n",
    "    \"\"\"\n",
    "    # first replace <br />\\n -> <br />\n",
    "    text = re.sub('<br\\s*?/>\\n', '<br />', text)\n",
    "    # then replace <br /> -> \\n\n",
    "    return re.sub('<br\\s*?/>', '\\n', text)\n"
   ]
  },
  {
   "cell_type": "code",
   "execution_count": 8,
   "metadata": {
    "collapsed": false
   },
   "outputs": [],
   "source": [
    "import datetime\n",
    "def blogger_url_gen(baseurl,start_date,end_date):\n",
    "    \"\"\"\n",
    "    Given a start and end datetime, generate a blogger page query.\n",
    "    \"\"\"\n",
    "    if not end_date:\n",
    "        end_date = datetime.datetime.now()\n",
    "    start_str = start_date.strftime(\"%Y-%M-%d\")\n",
    "    end_str = end_date.strftime(\"%Y-%M-%d\")\n",
    "    return baseurl+'/search?updated-min='+start_str+'T00:00:00-08:00&updated-max='+end_str+'T00:00:00-08:00'\n",
    "\n",
    "def lmh_url_gen(start_date,end_date=None):\n",
    "    return blogger_url_gen('http://legacymusichour.blogspot.ca/',start_date,end_date)"
   ]
  },
  {
   "cell_type": "code",
   "execution_count": 56,
   "metadata": {
    "collapsed": false
   },
   "outputs": [],
   "source": [
    "from bs4 import BeautifulSoup\n",
    "import urllib2\n",
    "import json\n",
    "import contextlib\n",
    "\n",
    "def normalize_track(episode_number,track_fields):\n",
    "    \"\"\"\n",
    "    Given a track which has (potentially) many composers, \n",
    "    generate a data point per composer.\n",
    "    \"\"\"\n",
    "    for composer in track_fields[1].split(','):\n",
    "        yield {'episode_number':episode_number,\n",
    "               'game':track_fields[0],\n",
    "               'composer':re.sub('\\(.*\\)','',composer).strip(), # remove parenthetical notes\n",
    "               'title':track_fields[2],\n",
    "               'producer':track_fields[3],\n",
    "               'console':track_fields[4],\n",
    "               'year':track_fields[5]}\n",
    "\n",
    "def parse_tracks(soup):\n",
    "    \"\"\"\n",
    "    Parse the soup of an LMH blogger page, pulling out the tracks\n",
    "    \"\"\"\n",
    "    for outer_p in soup.find_all(\"div\",class_=\"post-outer\"):\n",
    "        title_text = outer_p.find(\"h3\",class_=\"post-title entry-title\")\n",
    "        if title_text != None and \"Episode\" in title_text.text:\n",
    "            episode_number = ''.join([c \n",
    "                                      for c in title_text.text.strip().split(':')[0] \n",
    "                                      if c.isdigit()])\n",
    "            title_text.text.strip()\n",
    "            rawlist = [\n",
    "                i.strip().split(' - ') \n",
    "                for i in outer_p.text.strip().split('\\n\\n') \n",
    "                if ' - ' in i and len(i.split(' - '))>=6]\n",
    "            if len(rawlist) > 0:\n",
    "                for j in rawlist:\n",
    "                    if j[1] != 'Composer':\n",
    "                        for track in normalize_track(episode_number,\n",
    "                                                     [str(f) for f in j]):\n",
    "                            yield track\n",
    "\n",
    "def compoyors():\n",
    "    \"\"\"\n",
    "    Generator for all the tracks on LMH\n",
    "    \"\"\"    \n",
    "    data_url = lmh_url_gen(datetime.datetime(year=2011,month=1,day=1))\n",
    "    has_older_posts = True\n",
    "    while has_older_posts:\n",
    "        with contextlib.closing(urllib2.urlopen(data_url)) as response:        \n",
    "            html = response.read().decode('utf-8')\n",
    "            soup = BeautifulSoup(lmh_standardize_whitespace(html))\n",
    "            for track in parse_tracks(soup):\n",
    "                yield track                \n",
    "            older_posts = soup.find(\"a\",text=\"Older Posts\")\n",
    "            if older_posts:\n",
    "                has_older_posts = True\n",
    "                data_url = soup.find(\"a\",text=\"Older Posts\").get('href')\n",
    "            else:\n",
    "                has_older_posts = False"
   ]
  },
  {
   "cell_type": "code",
   "execution_count": 106,
   "metadata": {
    "collapsed": false
   },
   "outputs": [],
   "source": [
    "import pandas as pd\n",
    "tracks_df = pd.DataFrame([track for track in compoyors()])"
   ]
  },
  {
   "cell_type": "markdown",
   "metadata": {},
   "source": [
    "### Cleaning the data\n",
    "\n",
    "The above script pulls the data with some errors and lack of standardization. We need clean up the entries."
   ]
  },
  {
   "cell_type": "code",
   "execution_count": 49,
   "metadata": {
    "collapsed": false
   },
   "outputs": [
    {
     "name": "stdout",
     "output_type": "stream",
     "text": [
      "Missing episodes: set([11])\n"
     ]
    }
   ],
   "source": [
    "# first let's look at the episode numbers to see if there are any missing episodes\n",
    "stored_episodes = set([int(enum) for enum in tracks_df['episode_number']])\n",
    "print \"Missing episodes:\", stored_episodes.symmetric_difference(range(1,(max(stored_episodes)+1)))"
   ]
  },
  {
   "cell_type": "markdown",
   "metadata": {},
   "source": [
    "Missing episode 11?  Which one was that?  Ah, the Lost Level!  Let's leave that one out for now.\n",
    "\n",
    "What about other fields?  Any bad composer names that aren't right?  First let's check for some obvious problems, like names with too many fields."
   ]
  },
  {
   "cell_type": "code",
   "execution_count": 130,
   "metadata": {
    "collapsed": false
   },
   "outputs": [
    {
     "data": {
      "text/plain": [
       "[u'Act 4-2 Metal Version',\n",
       " u'Blades of Steel intro',\n",
       " u'Falcom Sound Team J.D.K.',\n",
       " u'Final Fantasy V Main Theme',\n",
       " u'Mecano Associates (Fumihito Kasatani',\n",
       " u'Shinji Hosoe  (comp.',\n",
       " u'Tim and Geoff Follin',\n",
       " u'Yasuhisa Watanabe Naoto Yagishita',\n",
       " u'and Doug Grigsby III']"
      ]
     },
     "execution_count": 130,
     "metadata": {},
     "output_type": "execute_result"
    }
   ],
   "source": [
    "sorted(set([composer for composer in tracks_df['composer'] if len(composer.split(' '))>3]))"
   ]
  },
  {
   "cell_type": "markdown",
   "metadata": {},
   "source": [
    "Ok, some of those are ok, but 'Blades of Steel intro' is not.  What's up with that track?"
   ]
  },
  {
   "cell_type": "code",
   "execution_count": 142,
   "metadata": {
    "collapsed": false
   },
   "outputs": [
    {
     "data": {
      "text/html": [
       "<table border=\"1\" class=\"dataframe\">\n",
       "  <thead>\n",
       "    <tr style=\"text-align: right;\">\n",
       "      <th></th>\n",
       "      <th>composer</th>\n",
       "      <th>console</th>\n",
       "      <th>episode_number</th>\n",
       "      <th>game</th>\n",
       "      <th>producer</th>\n",
       "      <th>title</th>\n",
       "      <th>year</th>\n",
       "    </tr>\n",
       "  </thead>\n",
       "  <tbody>\n",
       "    <tr>\n",
       "      <th>3073</th>\n",
       "      <td> Blades of Steel intro</td>\n",
       "      <td> none</td>\n",
       "      <td> 35</td>\n",
       "      <td> Playing With Power!</td>\n",
       "      <td> Shinya Sakamoto, Kazuki Muraoka, Atsushi Fujio...</td>\n",
       "      <td> Blades of Steel</td>\n",
       "      <td> none</td>\n",
       "    </tr>\n",
       "  </tbody>\n",
       "</table>"
      ],
      "text/plain": [
       "<IPython.core.display.HTML object>"
      ]
     },
     "execution_count": 142,
     "metadata": {},
     "output_type": "execute_result"
    }
   ],
   "source": [
    "from IPython.display import HTML\n",
    "pd.set_option('display.notebook_repr_html', True)\n",
    "HTML(tracks_df[tracks_df['composer']=='Blades of Steel intro'].to_html())"
   ]
  },
  {
   "cell_type": "markdown",
   "metadata": {},
   "source": [
    "Episode 35.  The Covers episode.  Looks like most of these got messed up:"
   ]
  },
  {
   "cell_type": "code",
   "execution_count": 136,
   "metadata": {
    "collapsed": false
   },
   "outputs": [
    {
     "data": {
      "text/html": [
       "<div style=\"max-height:1000px;max-width:1500px;overflow:auto;\">\n",
       "<table border=\"1\" class=\"dataframe\">\n",
       "  <thead>\n",
       "    <tr style=\"text-align: right;\">\n",
       "      <th></th>\n",
       "      <th>composer</th>\n",
       "      <th>console</th>\n",
       "      <th>episode_number</th>\n",
       "      <th>game</th>\n",
       "      <th>producer</th>\n",
       "      <th>title</th>\n",
       "      <th>year</th>\n",
       "    </tr>\n",
       "  </thead>\n",
       "  <tbody>\n",
       "    <tr>\n",
       "      <th>3069</th>\n",
       "      <td>                       Song</td>\n",
       "      <td>                                     Album/Context</td>\n",
       "      <td> 35</td>\n",
       "      <td>                                            Artist</td>\n",
       "      <td>                                          Composer</td>\n",
       "      <td>                                 Game</td>\n",
       "      <td>              Label</td>\n",
       "    </tr>\n",
       "    <tr>\n",
       "      <th>3070</th>\n",
       "      <td>              Troian Beauty</td>\n",
       "      <td>               Final Fantasy IV: Piano Collections</td>\n",
       "      <td> 35</td>\n",
       "      <td>              Toshiyuki Mori, Shirou Satou (arr.) </td>\n",
       "      <td>                                     Nobuo Uematsu</td>\n",
       "      <td>                     Final Fantasy IV</td>\n",
       "      <td>       Square Brand</td>\n",
       "    </tr>\n",
       "    <tr>\n",
       "      <th>3071</th>\n",
       "      <td>                  Last Wave</td>\n",
       "      <td>                              live video recording</td>\n",
       "      <td> 35</td>\n",
       "      <td>                                       S.S.T. Band</td>\n",
       "      <td>                                 Hiroshi Kawaguchi</td>\n",
       "      <td>                              Out Run</td>\n",
       "      <td>               none</td>\n",
       "    </tr>\n",
       "    <tr>\n",
       "      <th>3072</th>\n",
       "      <td>                     Jungle</td>\n",
       "      <td>                                           demo CD</td>\n",
       "      <td> 35</td>\n",
       "      <td>                                     The Advantage</td>\n",
       "      <td>                                    Kazuki Muraoka</td>\n",
       "      <td>                           Metal Gear</td>\n",
       "      <td>               none</td>\n",
       "    </tr>\n",
       "    <tr>\n",
       "      <th>3073</th>\n",
       "      <td>      Blades of Steel intro</td>\n",
       "      <td>                                              none</td>\n",
       "      <td> 35</td>\n",
       "      <td>                               Playing With Power!</td>\n",
       "      <td> Shinya Sakamoto, Kazuki Muraoka, Atsushi Fujio...</td>\n",
       "      <td>                      Blades of Steel</td>\n",
       "      <td>               none</td>\n",
       "    </tr>\n",
       "    <tr>\n",
       "      <th>3074</th>\n",
       "      <td> Final Fantasy V Main Theme</td>\n",
       "      <td> Orchestral Game Concert 2/Game Music Concert 2...</td>\n",
       "      <td> 35</td>\n",
       "      <td> Tokyo Memorial Orchestra, Katsuhisa Hattori (a...</td>\n",
       "      <td>                                     Nobuo Uematsu</td>\n",
       "      <td>                      Final Fantasy V</td>\n",
       "      <td> Warner Music Japan</td>\n",
       "    </tr>\n",
       "    <tr>\n",
       "      <th>3075</th>\n",
       "      <td>                     Area 5</td>\n",
       "      <td>          live on The Legacy Music Hour Episode 35</td>\n",
       "      <td> 35</td>\n",
       "      <td>                       Brent Weinbach (arr., per.)</td>\n",
       "      <td>                                      Naoki Kodaka</td>\n",
       "      <td>                       Blaster Master</td>\n",
       "      <td>               none</td>\n",
       "    </tr>\n",
       "    <tr>\n",
       "      <th>3076</th>\n",
       "      <td>                Marble Zone</td>\n",
       "      <td>          live on The Legacy Music Hour Episode 35</td>\n",
       "      <td> 35</td>\n",
       "      <td>                       Brent Weinbach (arr., per.)</td>\n",
       "      <td>                                   Masato Nakamura</td>\n",
       "      <td>                   Sonic the Hedgehog</td>\n",
       "      <td>               none</td>\n",
       "    </tr>\n",
       "    <tr>\n",
       "      <th>3077</th>\n",
       "      <td>                 Main Theme</td>\n",
       "      <td>                               Sega Piano Nocturne</td>\n",
       "      <td> 35</td>\n",
       "      <td>                            Kiminori Atsuta (arr.)</td>\n",
       "      <td>                                    Tokuhiko Uwabo</td>\n",
       "      <td>                        Space Harrier</td>\n",
       "      <td>        Wave Master</td>\n",
       "    </tr>\n",
       "    <tr>\n",
       "      <th>3078</th>\n",
       "      <td>               Rainbow Road</td>\n",
       "      <td>                            Super Mario Kart Album</td>\n",
       "      <td> 35</td>\n",
       "      <td>                                        The OneUps</td>\n",
       "      <td>                                          Soyo Oka</td>\n",
       "      <td>                     Super Mario Kart</td>\n",
       "      <td>      OneUp Studios</td>\n",
       "    </tr>\n",
       "    <tr>\n",
       "      <th>3079</th>\n",
       "      <td>                      Zelda</td>\n",
       "      <td>                                  The Rabbit Joint</td>\n",
       "      <td> 35</td>\n",
       "      <td>                          Joe Pleiman (lyr., arr.)</td>\n",
       "      <td>                                        Koji Kondo</td>\n",
       "      <td>                  The Legend of Zelda</td>\n",
       "      <td>               none</td>\n",
       "    </tr>\n",
       "    <tr>\n",
       "      <th>3080</th>\n",
       "      <td>                      BMG 1</td>\n",
       "      <td>             demonstration of Prophet-5 with TX802</td>\n",
       "      <td> 35</td>\n",
       "      <td>                                     Ken Matsuzawa</td>\n",
       "      <td>                                  Takeaki Kunimoto</td>\n",
       "      <td>                          Bomber King</td>\n",
       "      <td>               none</td>\n",
       "    </tr>\n",
       "    <tr>\n",
       "      <th>3081</th>\n",
       "      <td>      Act 4-2 Metal Version</td>\n",
       "      <td>                                              none</td>\n",
       "      <td> 35</td>\n",
       "      <td>                                        Eric James</td>\n",
       "      <td>                                   Keiji Yamagishi</td>\n",
       "      <td>                         Ninja Gaiden</td>\n",
       "      <td>               none</td>\n",
       "    </tr>\n",
       "    <tr>\n",
       "      <th>3082</th>\n",
       "      <td>              target vs ken</td>\n",
       "      <td>                                              none</td>\n",
       "      <td> 35</td>\n",
       "      <td>                             DTH MTN (Gabe Castro)</td>\n",
       "      <td>                                      Junko Tamiya</td>\n",
       "      <td> Street Fighter 2010: The Final Fight</td>\n",
       "      <td>               none</td>\n",
       "    </tr>\n",
       "  </tbody>\n",
       "</table>\n",
       "</div>"
      ],
      "text/plain": [
       "                        composer                                            console episode_number                                               game                                           producer                                 title                year\n",
       "3069                        Song                                      Album/Context             35                                             Artist                                           Composer                                  Game               Label\n",
       "3070               Troian Beauty                Final Fantasy IV: Piano Collections             35               Toshiyuki Mori, Shirou Satou (arr.)                                       Nobuo Uematsu                      Final Fantasy IV        Square Brand\n",
       "3071                   Last Wave                               live video recording             35                                        S.S.T. Band                                  Hiroshi Kawaguchi                               Out Run                none\n",
       "3072                      Jungle                                            demo CD             35                                      The Advantage                                     Kazuki Muraoka                            Metal Gear                none\n",
       "3073       Blades of Steel intro                                               none             35                                Playing With Power!  Shinya Sakamoto, Kazuki Muraoka, Atsushi Fujio...                       Blades of Steel                none\n",
       "3074  Final Fantasy V Main Theme  Orchestral Game Concert 2/Game Music Concert 2...             35  Tokyo Memorial Orchestra, Katsuhisa Hattori (a...                                      Nobuo Uematsu                       Final Fantasy V  Warner Music Japan\n",
       "3075                      Area 5           live on The Legacy Music Hour Episode 35             35                        Brent Weinbach (arr., per.)                                       Naoki Kodaka                        Blaster Master                none\n",
       "3076                 Marble Zone           live on The Legacy Music Hour Episode 35             35                        Brent Weinbach (arr., per.)                                    Masato Nakamura                    Sonic the Hedgehog                none\n",
       "3077                  Main Theme                                Sega Piano Nocturne             35                             Kiminori Atsuta (arr.)                                     Tokuhiko Uwabo                         Space Harrier         Wave Master\n",
       "3078                Rainbow Road                             Super Mario Kart Album             35                                         The OneUps                                           Soyo Oka                      Super Mario Kart       OneUp Studios\n",
       "3079                       Zelda                                   The Rabbit Joint             35                           Joe Pleiman (lyr., arr.)                                         Koji Kondo                   The Legend of Zelda                none\n",
       "3080                       BMG 1              demonstration of Prophet-5 with TX802             35                                      Ken Matsuzawa                                   Takeaki Kunimoto                           Bomber King                none\n",
       "3081       Act 4-2 Metal Version                                               none             35                                         Eric James                                    Keiji Yamagishi                          Ninja Gaiden                none\n",
       "3082               target vs ken                                               none             35                              DTH MTN (Gabe Castro)                                       Junko Tamiya  Street Fighter 2010: The Final Fight                none"
      ]
     },
     "execution_count": 136,
     "metadata": {},
     "output_type": "execute_result"
    }
   ],
   "source": [
    "tracks_df[tracks_df['episode_number']=='35']"
   ]
  },
  {
   "cell_type": "markdown",
   "metadata": {},
   "source": [
    "Let's just remove this episode from the results."
   ]
  },
  {
   "cell_type": "code",
   "execution_count": 147,
   "metadata": {
    "collapsed": false
   },
   "outputs": [],
   "source": [
    "clean_tracks_df = tracks_df[tracks_df['episode_number']!='35']"
   ]
  },
  {
   "cell_type": "markdown",
   "metadata": {},
   "source": [
    "Episode 35 is gone.  Now let's look at years for any non-numeric results in the year field."
   ]
  },
  {
   "cell_type": "code",
   "execution_count": 148,
   "metadata": {
    "collapsed": false,
    "scrolled": true
   },
   "outputs": [
    {
     "name": "stdout",
     "output_type": "stream",
     "text": [
      "Error at genesis\n",
      "Error at hisayoshi ogura\n",
      "Error at mega drive\n",
      "Error at nes\n",
      "Error at super famicom\n",
      "Error at unknown\n"
     ]
    }
   ],
   "source": [
    "for i in sorted(set([year.lower() for year in clean_tracks_df['year']])):\n",
    "    try:\n",
    "        x = int(re.sub('\\s\\(.*\\)','',i)) # accepts years and years + (unreleased)\n",
    "    except:\n",
    "        print 'Error at', i"
   ]
  },
  {
   "cell_type": "markdown",
   "metadata": {},
   "source": [
    "A mix of different errors here.  Let's go through them one by one.  First, the 'genesis' year."
   ]
  },
  {
   "cell_type": "code",
   "execution_count": 153,
   "metadata": {
    "collapsed": false
   },
   "outputs": [
    {
     "data": {
      "text/html": [
       "<table border=\"1\" class=\"dataframe\">\n",
       "  <thead>\n",
       "    <tr style=\"text-align: right;\">\n",
       "      <th></th>\n",
       "      <th>composer</th>\n",
       "      <th>console</th>\n",
       "      <th>episode_number</th>\n",
       "      <th>game</th>\n",
       "      <th>producer</th>\n",
       "      <th>title</th>\n",
       "      <th>year</th>\n",
       "    </tr>\n",
       "  </thead>\n",
       "  <tbody>\n",
       "    <tr>\n",
       "      <th>140</th>\n",
       "      <td> Ludwig van Beethoven</td>\n",
       "      <td> Shiny Entertainment</td>\n",
       "      <td> 160</td>\n",
       "      <td> Earthworm Jim 2</td>\n",
       "      <td> 3rd Movement)</td>\n",
       "      <td> See Jim Run, Run Jim Run (Moonlight Sonata</td>\n",
       "      <td> Genesis</td>\n",
       "    </tr>\n",
       "    <tr>\n",
       "      <th>141</th>\n",
       "      <td>      Tommy Tallarico</td>\n",
       "      <td> Shiny Entertainment</td>\n",
       "      <td> 160</td>\n",
       "      <td> Earthworm Jim 2</td>\n",
       "      <td> 3rd Movement)</td>\n",
       "      <td> See Jim Run, Run Jim Run (Moonlight Sonata</td>\n",
       "      <td> Genesis</td>\n",
       "    </tr>\n",
       "  </tbody>\n",
       "</table>"
      ],
      "text/plain": [
       "<IPython.core.display.HTML object>"
      ]
     },
     "execution_count": 153,
     "metadata": {},
     "output_type": "execute_result"
    }
   ],
   "source": [
    "HTML(clean_tracks_df[clean_tracks_df['year'].str.lower()=='genesis'].to_html())"
   ]
  },
  {
   "cell_type": "markdown",
   "metadata": {},
   "source": [
    "None of the other tracks from 160 are messed up.  Let's just fix this one in place.  The error came from the '-' after the '(Moonlight Sonata', which I was using as a delimiter."
   ]
  },
  {
   "cell_type": "code",
   "execution_count": 157,
   "metadata": {
    "collapsed": false
   },
   "outputs": [],
   "source": [
    "clean_tracks_df.ix[clean_tracks_df.year.str.lower()=='genesis','console']='Genesis'\n",
    "clean_tracks_df.ix[clean_tracks_df.year.str.lower()=='genesis','producer']='Shiny'\n",
    "clean_tracks_df.ix[clean_tracks_df.year.str.lower()=='genesis','year']='1996'"
   ]
  },
  {
   "cell_type": "markdown",
   "metadata": {},
   "source": [
    "Next, we want to handle the unclean entry where year is 'hisayoshi ogura'."
   ]
  },
  {
   "cell_type": "code",
   "execution_count": 159,
   "metadata": {
    "collapsed": false
   },
   "outputs": [
    {
     "data": {
      "text/html": [
       "<table border=\"1\" class=\"dataframe\">\n",
       "  <thead>\n",
       "    <tr style=\"text-align: right;\">\n",
       "      <th></th>\n",
       "      <th>composer</th>\n",
       "      <th>console</th>\n",
       "      <th>episode_number</th>\n",
       "      <th>game</th>\n",
       "      <th>producer</th>\n",
       "      <th>title</th>\n",
       "      <th>year</th>\n",
       "    </tr>\n",
       "  </thead>\n",
       "  <tbody>\n",
       "    <tr>\n",
       "      <th>3919</th>\n",
       "      <td> Hajime Hirasawa</td>\n",
       "      <td> SNES -1993\\nDarius Plus</td>\n",
       "      <td> 6</td>\n",
       "      <td> Star Fox</td>\n",
       "      <td> Nintendo</td>\n",
       "      <td> Main Theme (End Credits)</td>\n",
       "      <td> Hisayoshi Ogura</td>\n",
       "    </tr>\n",
       "  </tbody>\n",
       "</table>"
      ],
      "text/plain": [
       "<IPython.core.display.HTML object>"
      ]
     },
     "execution_count": 159,
     "metadata": {},
     "output_type": "execute_result"
    }
   ],
   "source": [
    "HTML(clean_tracks_df[clean_tracks_df['year'].str.lower()=='hisayoshi ogura'].to_html())"
   ]
  },
  {
   "cell_type": "markdown",
   "metadata": {},
   "source": [
    "Oh yeah, look at that, this one is all messed up.  What happened?  Looks like I munged two improperly formatted entries together, one for StarFox and one for Darius Plus.  We'll have to manually fix it.  First we'll remove the entry and add two new entries."
   ]
  },
  {
   "cell_type": "code",
   "execution_count": 166,
   "metadata": {
    "collapsed": false
   },
   "outputs": [
    {
     "data": {
      "text/html": [
       "<table border=\"1\" class=\"dataframe\">\n",
       "  <thead>\n",
       "    <tr style=\"text-align: right;\">\n",
       "      <th></th>\n",
       "      <th>composer</th>\n",
       "      <th>console</th>\n",
       "      <th>episode_number</th>\n",
       "      <th>game</th>\n",
       "      <th>producer</th>\n",
       "      <th>title</th>\n",
       "      <th>year</th>\n",
       "    </tr>\n",
       "  </thead>\n",
       "  <tbody>\n",
       "    <tr>\n",
       "      <th>4040</th>\n",
       "      <td> Kazunaka Yamane</td>\n",
       "      <td>       NES</td>\n",
       "      <td> 1</td>\n",
       "      <td>                         Double Dragon</td>\n",
       "      <td> Tradewest</td>\n",
       "      <td>             Title Screen</td>\n",
       "      <td> 1988</td>\n",
       "    </tr>\n",
       "    <tr>\n",
       "      <th>4041</th>\n",
       "      <td>    Naoki Kadoka</td>\n",
       "      <td>       NES</td>\n",
       "      <td> 1</td>\n",
       "      <td>                        Blaster Master</td>\n",
       "      <td>   Sunsoft</td>\n",
       "      <td>                   Area 1</td>\n",
       "      <td> 1988</td>\n",
       "    </tr>\n",
       "    <tr>\n",
       "      <th>4042</th>\n",
       "      <td>  Tsukasa Masuko</td>\n",
       "      <td>       NES</td>\n",
       "      <td> 1</td>\n",
       "      <td> T &amp; C Surf Designs: Wood &amp; Water Rage</td>\n",
       "      <td>       LJN</td>\n",
       "      <td>              Level Music</td>\n",
       "      <td> 1988</td>\n",
       "    </tr>\n",
       "    <tr>\n",
       "      <th>0   </th>\n",
       "      <td> Hajime Hirasawa</td>\n",
       "      <td>      SNES</td>\n",
       "      <td> 6</td>\n",
       "      <td>                              Star Fox</td>\n",
       "      <td>  Nintendo</td>\n",
       "      <td> Main Theme (End Credits)</td>\n",
       "      <td> 1993</td>\n",
       "    </tr>\n",
       "    <tr>\n",
       "      <th>1   </th>\n",
       "      <td> Hisayoshi Ogura</td>\n",
       "      <td> PC Engine</td>\n",
       "      <td> 6</td>\n",
       "      <td>                           Darius Plus</td>\n",
       "      <td>     Taito</td>\n",
       "      <td>      Enter Your Initials</td>\n",
       "      <td> 1990</td>\n",
       "    </tr>\n",
       "  </tbody>\n",
       "</table>"
      ],
      "text/plain": [
       "<IPython.core.display.HTML object>"
      ]
     },
     "execution_count": 166,
     "metadata": {},
     "output_type": "execute_result"
    }
   ],
   "source": [
    "clean_tracks_df = clean_tracks_df[clean_tracks_df['year'].str.lower()!='hisayoshi ogura']\n",
    "starfox_entry = {'composer': u'Hajime Hirasawa',\n",
    "  'console': u'SNES',\n",
    "  'episode_number': u'6',\n",
    "  'game': u'Star Fox',\n",
    "  'producer': u'Nintendo',\n",
    "  'title': u'Main Theme (End Credits)',\n",
    "  'year': u'1993'}\n",
    "dariusplus_entry = {'composer': u'Hisayoshi Ogura',\n",
    "  'console': u'PC Engine',\n",
    "  'episode_number': u'6',\n",
    "  'game': u'Darius Plus',\n",
    "  'producer': u'Taito',\n",
    "  'title': u'Enter Your Initials',\n",
    "  'year': u'1990'}\n",
    "clean_tracks_df = pd.concat([clean_tracks_df,pd.DataFrame([starfox_entry,dariusplus_entry])])\n",
    "HTML(clean_tracks_df.tail().to_html())"
   ]
  },
  {
   "cell_type": "code",
   "execution_count": 170,
   "metadata": {
    "collapsed": false
   },
   "outputs": [
    {
     "data": {
      "text/html": [
       "<table border=\"1\" class=\"dataframe\">\n",
       "  <thead>\n",
       "    <tr style=\"text-align: right;\">\n",
       "      <th></th>\n",
       "      <th>composer</th>\n",
       "      <th>console</th>\n",
       "      <th>episode_number</th>\n",
       "      <th>game</th>\n",
       "      <th>producer</th>\n",
       "      <th>title</th>\n",
       "      <th>year</th>\n",
       "    </tr>\n",
       "  </thead>\n",
       "  <tbody>\n",
       "    <tr>\n",
       "      <th>4025</th>\n",
       "      <td> Kazunaka Yamane</td>\n",
       "      <td>       NES</td>\n",
       "      <td> 1</td>\n",
       "      <td>                         Double Dragon</td>\n",
       "      <td> Tradewest</td>\n",
       "      <td>             Title Screen</td>\n",
       "      <td> 1988</td>\n",
       "    </tr>\n",
       "    <tr>\n",
       "      <th>4026</th>\n",
       "      <td>    Naoki Kadoka</td>\n",
       "      <td>       NES</td>\n",
       "      <td> 1</td>\n",
       "      <td>                        Blaster Master</td>\n",
       "      <td>   Sunsoft</td>\n",
       "      <td>                   Area 1</td>\n",
       "      <td> 1988</td>\n",
       "    </tr>\n",
       "    <tr>\n",
       "      <th>4027</th>\n",
       "      <td>  Tsukasa Masuko</td>\n",
       "      <td>       NES</td>\n",
       "      <td> 1</td>\n",
       "      <td> T &amp; C Surf Designs: Wood &amp; Water Rage</td>\n",
       "      <td>       LJN</td>\n",
       "      <td>              Level Music</td>\n",
       "      <td> 1988</td>\n",
       "    </tr>\n",
       "    <tr>\n",
       "      <th>4028</th>\n",
       "      <td> Hajime Hirasawa</td>\n",
       "      <td>      SNES</td>\n",
       "      <td> 6</td>\n",
       "      <td>                              Star Fox</td>\n",
       "      <td>  Nintendo</td>\n",
       "      <td> Main Theme (End Credits)</td>\n",
       "      <td> 1993</td>\n",
       "    </tr>\n",
       "    <tr>\n",
       "      <th>4029</th>\n",
       "      <td> Hisayoshi Ogura</td>\n",
       "      <td> PC Engine</td>\n",
       "      <td> 6</td>\n",
       "      <td>                           Darius Plus</td>\n",
       "      <td>     Taito</td>\n",
       "      <td>      Enter Your Initials</td>\n",
       "      <td> 1990</td>\n",
       "    </tr>\n",
       "  </tbody>\n",
       "</table>"
      ],
      "text/plain": [
       "<IPython.core.display.HTML object>"
      ]
     },
     "execution_count": 170,
     "metadata": {},
     "output_type": "execute_result"
    }
   ],
   "source": [
    "clean_tracks_df = clean_tracks_df.reset_index(drop=True)\n",
    "HTML(clean_tracks_df.tail().to_html())"
   ]
  },
  {
   "cell_type": "code",
   "execution_count": 173,
   "metadata": {
    "collapsed": false
   },
   "outputs": [
    {
     "data": {
      "text/html": [
       "<table border=\"1\" class=\"dataframe\">\n",
       "  <thead>\n",
       "    <tr style=\"text-align: right;\">\n",
       "      <th></th>\n",
       "      <th>composer</th>\n",
       "      <th>console</th>\n",
       "      <th>episode_number</th>\n",
       "      <th>game</th>\n",
       "      <th>producer</th>\n",
       "      <th>title</th>\n",
       "      <th>year</th>\n",
       "    </tr>\n",
       "  </thead>\n",
       "  <tbody>\n",
       "    <tr>\n",
       "      <th>2939</th>\n",
       "      <td> Tsuyoshi Matsushima</td>\n",
       "      <td> Compile</td>\n",
       "      <td> 40</td>\n",
       "      <td> Madou Monogatari I</td>\n",
       "      <td> Dark Noble's Theme)</td>\n",
       "      <td> Opening (Part 2</td>\n",
       "      <td> Mega Drive</td>\n",
       "    </tr>\n",
       "    <tr>\n",
       "      <th>2940</th>\n",
       "      <td>      Polygon Junkie</td>\n",
       "      <td> Compile</td>\n",
       "      <td> 40</td>\n",
       "      <td> Madou Monogatari I</td>\n",
       "      <td> Dark Noble's Theme)</td>\n",
       "      <td> Opening (Part 2</td>\n",
       "      <td> Mega Drive</td>\n",
       "    </tr>\n",
       "  </tbody>\n",
       "</table>"
      ],
      "text/plain": [
       "<IPython.core.display.HTML object>"
      ]
     },
     "execution_count": 173,
     "metadata": {},
     "output_type": "execute_result"
    }
   ],
   "source": [
    "HTML(clean_tracks_df[clean_tracks_df['year'].str.lower()=='mega drive'].to_html())"
   ]
  },
  {
   "cell_type": "code",
   "execution_count": 188,
   "metadata": {
    "collapsed": false
   },
   "outputs": [
    {
     "data": {
      "text/html": [
       "<table border=\"1\" class=\"dataframe\">\n",
       "  <thead>\n",
       "    <tr style=\"text-align: right;\">\n",
       "      <th></th>\n",
       "      <th>composer</th>\n",
       "      <th>console</th>\n",
       "      <th>episode_number</th>\n",
       "      <th>game</th>\n",
       "      <th>producer</th>\n",
       "      <th>title</th>\n",
       "      <th>year</th>\n",
       "    </tr>\n",
       "  </thead>\n",
       "  <tbody>\n",
       "    <tr>\n",
       "      <th>4027</th>\n",
       "      <td>      Tsukasa Masuko</td>\n",
       "      <td>        NES</td>\n",
       "      <td>  1</td>\n",
       "      <td> T &amp; C Surf Designs: Wood &amp; Water Rage</td>\n",
       "      <td>      LJN</td>\n",
       "      <td>                         Level Music</td>\n",
       "      <td> 1988</td>\n",
       "    </tr>\n",
       "    <tr>\n",
       "      <th>4028</th>\n",
       "      <td>     Hajime Hirasawa</td>\n",
       "      <td>       SNES</td>\n",
       "      <td>  6</td>\n",
       "      <td>                              Star Fox</td>\n",
       "      <td> Nintendo</td>\n",
       "      <td>            Main Theme (End Credits)</td>\n",
       "      <td> 1993</td>\n",
       "    </tr>\n",
       "    <tr>\n",
       "      <th>4029</th>\n",
       "      <td>     Hisayoshi Ogura</td>\n",
       "      <td>  PC Engine</td>\n",
       "      <td>  6</td>\n",
       "      <td>                           Darius Plus</td>\n",
       "      <td>    Taito</td>\n",
       "      <td>                 Enter Your Initials</td>\n",
       "      <td> 1990</td>\n",
       "    </tr>\n",
       "    <tr>\n",
       "      <th>0   </th>\n",
       "      <td> Tsuyoshi Matsushima</td>\n",
       "      <td> Mega Drive</td>\n",
       "      <td> 40</td>\n",
       "      <td>                    Madou Monogatari I</td>\n",
       "      <td>  Compile</td>\n",
       "      <td> Opening (Part 2 Dark Noble's Theme)</td>\n",
       "      <td> 1996</td>\n",
       "    </tr>\n",
       "    <tr>\n",
       "      <th>1   </th>\n",
       "      <td>      Polygon Junkie</td>\n",
       "      <td> Mega Drive</td>\n",
       "      <td> 40</td>\n",
       "      <td>                    Madou Monogatari I</td>\n",
       "      <td>  Compile</td>\n",
       "      <td> Opening (Part 2 Dark Noble's Theme)</td>\n",
       "      <td> 1996</td>\n",
       "    </tr>\n",
       "  </tbody>\n",
       "</table>"
      ],
      "text/plain": [
       "<IPython.core.display.HTML object>"
      ]
     },
     "execution_count": 188,
     "metadata": {},
     "output_type": "execute_result"
    }
   ],
   "source": [
    "clean_tracks_df = clean_tracks_df[clean_tracks_df['year'].str.lower()!='mega drive']\n",
    "madou_1 = {'composer': u'Tsuyoshi Matsushima',\n",
    "  'console': u'Mega Drive',\n",
    "  'episode_number': u'40',\n",
    "  'game': u'Madou Monogatari I',\n",
    "  'producer': u'Compile',\n",
    "  'title': u'Opening (Part 2 Dark Noble\\'s Theme)',\n",
    "  'year': u'1996'}\n",
    "madou_2 = {'composer': u'Polygon Junkie',\n",
    "  'console': u'Mega Drive',\n",
    "  'episode_number': u'40',\n",
    "  'game': u'Madou Monogatari I',\n",
    "  'producer': u'Compile',\n",
    "  'title': u'Opening (Part 2 Dark Noble\\'s Theme)',\n",
    "  'year': u'1996'}\n",
    "clean_tracks_df = pd.concat([clean_tracks_df,pd.DataFrame([madou_1,madou_2])])\n",
    "HTML(clean_tracks_df.tail().to_html())"
   ]
  },
  {
   "cell_type": "code",
   "execution_count": 180,
   "metadata": {
    "collapsed": false
   },
   "outputs": [
    {
     "data": {
      "text/html": [
       "<table border=\"1\" class=\"dataframe\">\n",
       "  <thead>\n",
       "    <tr style=\"text-align: right;\">\n",
       "      <th></th>\n",
       "      <th>composer</th>\n",
       "      <th>console</th>\n",
       "      <th>episode_number</th>\n",
       "      <th>game</th>\n",
       "      <th>producer</th>\n",
       "      <th>title</th>\n",
       "      <th>year</th>\n",
       "    </tr>\n",
       "  </thead>\n",
       "  <tbody>\n",
       "    <tr>\n",
       "      <th>160</th>\n",
       "      <td>           Cyndi Lauper</td>\n",
       "      <td> Konami</td>\n",
       "      <td> 160</td>\n",
       "      <td> The Goonies II</td>\n",
       "      <td> Basement</td>\n",
       "      <td> Good Enough/Main Theme (The Goonies 'R' Good E...</td>\n",
       "      <td> NES</td>\n",
       "    </tr>\n",
       "    <tr>\n",
       "      <th>161</th>\n",
       "      <td> Stephen Broughton Lunt</td>\n",
       "      <td> Konami</td>\n",
       "      <td> 160</td>\n",
       "      <td> The Goonies II</td>\n",
       "      <td> Basement</td>\n",
       "      <td> Good Enough/Main Theme (The Goonies 'R' Good E...</td>\n",
       "      <td> NES</td>\n",
       "    </tr>\n",
       "    <tr>\n",
       "      <th>162</th>\n",
       "      <td>           Arthur Stead</td>\n",
       "      <td> Konami</td>\n",
       "      <td> 160</td>\n",
       "      <td> The Goonies II</td>\n",
       "      <td> Basement</td>\n",
       "      <td> Good Enough/Main Theme (The Goonies 'R' Good E...</td>\n",
       "      <td> NES</td>\n",
       "    </tr>\n",
       "    <tr>\n",
       "      <th>163</th>\n",
       "      <td>        Satoe Terashima</td>\n",
       "      <td> Konami</td>\n",
       "      <td> 160</td>\n",
       "      <td> The Goonies II</td>\n",
       "      <td> Basement</td>\n",
       "      <td> Good Enough/Main Theme (The Goonies 'R' Good E...</td>\n",
       "      <td> NES</td>\n",
       "    </tr>\n",
       "  </tbody>\n",
       "</table>"
      ],
      "text/plain": [
       "<IPython.core.display.HTML object>"
      ]
     },
     "execution_count": 180,
     "metadata": {},
     "output_type": "execute_result"
    }
   ],
   "source": [
    "HTML(clean_tracks_df[clean_tracks_df['year'].str.lower()=='nes'].to_html())"
   ]
  },
  {
   "cell_type": "code",
   "execution_count": 191,
   "metadata": {
    "collapsed": false
   },
   "outputs": [
    {
     "data": {
      "text/html": [
       "<table border=\"1\" class=\"dataframe\">\n",
       "  <thead>\n",
       "    <tr style=\"text-align: right;\">\n",
       "      <th></th>\n",
       "      <th>composer</th>\n",
       "      <th>console</th>\n",
       "      <th>episode_number</th>\n",
       "      <th>game</th>\n",
       "      <th>producer</th>\n",
       "      <th>title</th>\n",
       "      <th>year</th>\n",
       "    </tr>\n",
       "  </thead>\n",
       "  <tbody>\n",
       "    <tr>\n",
       "      <th>1</th>\n",
       "      <td>         Polygon Junkie</td>\n",
       "      <td> Mega Drive</td>\n",
       "      <td>  40</td>\n",
       "      <td> Madou Monogatari I</td>\n",
       "      <td> Compile</td>\n",
       "      <td>               Opening (Part 2 Dark Noble's Theme)</td>\n",
       "      <td> 1996</td>\n",
       "    </tr>\n",
       "    <tr>\n",
       "      <th>0</th>\n",
       "      <td>           Cyndi Lauper</td>\n",
       "      <td>        NES</td>\n",
       "      <td> 160</td>\n",
       "      <td>     The Goonies II</td>\n",
       "      <td>  Konami</td>\n",
       "      <td> Good Enough/Main Theme (The Goonies 'R' Good E...</td>\n",
       "      <td> 1987</td>\n",
       "    </tr>\n",
       "    <tr>\n",
       "      <th>1</th>\n",
       "      <td> Stephen Broughton Lunt</td>\n",
       "      <td>        NES</td>\n",
       "      <td> 160</td>\n",
       "      <td>     The Goonies II</td>\n",
       "      <td>  Konami</td>\n",
       "      <td> Good Enough/Main Theme (The Goonies 'R' Good E...</td>\n",
       "      <td> 1987</td>\n",
       "    </tr>\n",
       "    <tr>\n",
       "      <th>2</th>\n",
       "      <td>           Arthur Stead</td>\n",
       "      <td>        NES</td>\n",
       "      <td> 160</td>\n",
       "      <td>     The Goonies II</td>\n",
       "      <td>  Konami</td>\n",
       "      <td> Good Enough/Main Theme (The Goonies 'R' Good E...</td>\n",
       "      <td> 1987</td>\n",
       "    </tr>\n",
       "    <tr>\n",
       "      <th>3</th>\n",
       "      <td>        Satoe Terashima</td>\n",
       "      <td>        NES</td>\n",
       "      <td> 160</td>\n",
       "      <td>     The Goonies II</td>\n",
       "      <td>  Konami</td>\n",
       "      <td> Good Enough/Main Theme (The Goonies 'R' Good E...</td>\n",
       "      <td> 1987</td>\n",
       "    </tr>\n",
       "  </tbody>\n",
       "</table>"
      ],
      "text/plain": [
       "<IPython.core.display.HTML object>"
      ]
     },
     "execution_count": 191,
     "metadata": {},
     "output_type": "execute_result"
    }
   ],
   "source": [
    "clean_tracks_df = clean_tracks_df[clean_tracks_df['year'].str.lower()!='mega drive']\n",
    "goonies_tracks = [{'composer': u'Cyndi Lauper',\n",
    "                    'console': u'NES',\n",
    "                    'episode_number': u'160',\n",
    "                    'game': u'The Goonies II',\n",
    "                    'producer': u'Konami',\n",
    "                    'title': u'Good Enough/Main Theme (The Goonies \\'R\\' Good Enough)',\n",
    "                    'year': u'1987'},\n",
    "                  {'composer': u'Stephen Broughton Lunt',\n",
    "                    'console': u'NES',\n",
    "                    'episode_number': u'160',\n",
    "                    'game': u'The Goonies II',\n",
    "                    'producer': u'Konami',\n",
    "                    'title': u'Good Enough/Main Theme (The Goonies \\'R\\' Good Enough)',\n",
    "                    'year': u'1987'},\n",
    "                  {'composer': u'Arthur Stead',\n",
    "                    'console': u'NES',\n",
    "                    'episode_number': u'160',\n",
    "                    'game': u'The Goonies II',\n",
    "                    'producer': u'Konami',\n",
    "                    'title': u'Good Enough/Main Theme (The Goonies \\'R\\' Good Enough)',\n",
    "                    'year': u'1987'},\n",
    "                  {'composer': u'Satoe Terashima',\n",
    "                    'console': u'NES',\n",
    "                    'episode_number': u'160',\n",
    "                    'game': u'The Goonies II',\n",
    "                    'producer': u'Konami',\n",
    "                    'title': u'Good Enough/Main Theme (The Goonies \\'R\\' Good Enough)',\n",
    "                    'year': u'1987'}]\n",
    "clean_tracks_df = pd.concat([clean_tracks_df,pd.DataFrame(goonies_tracks)])\n",
    "HTML(clean_tracks_df.tail().to_html())"
   ]
  },
  {
   "cell_type": "code",
   "execution_count": 190,
   "metadata": {
    "collapsed": false
   },
   "outputs": [
    {
     "data": {
      "text/html": [
       "<table border=\"1\" class=\"dataframe\">\n",
       "  <thead>\n",
       "    <tr style=\"text-align: right;\">\n",
       "      <th></th>\n",
       "      <th>composer</th>\n",
       "      <th>console</th>\n",
       "      <th>episode_number</th>\n",
       "      <th>game</th>\n",
       "      <th>producer</th>\n",
       "      <th>title</th>\n",
       "      <th>year</th>\n",
       "    </tr>\n",
       "  </thead>\n",
       "  <tbody>\n",
       "    <tr>\n",
       "      <th>98</th>\n",
       "      <td> Yoko Kanno</td>\n",
       "      <td> Koei</td>\n",
       "      <td> 162</td>\n",
       "      <td> Nobunaga no Yabou: Haouden</td>\n",
       "      <td> Daimyos' Theme)</td>\n",
       "      <td> Usual Theme (Blue Whitecaps</td>\n",
       "      <td> Super Famicom</td>\n",
       "    </tr>\n",
       "  </tbody>\n",
       "</table>"
      ],
      "text/plain": [
       "<IPython.core.display.HTML object>"
      ]
     },
     "execution_count": 190,
     "metadata": {},
     "output_type": "execute_result"
    }
   ],
   "source": [
    "HTML(clean_tracks_df[clean_tracks_df['year'].str.lower()=='super famicom'].to_html())"
   ]
  },
  {
   "cell_type": "code",
   "execution_count": null,
   "metadata": {
    "collapsed": true
   },
   "outputs": [],
   "source": []
  },
  {
   "cell_type": "code",
   "execution_count": 175,
   "metadata": {
    "collapsed": false
   },
   "outputs": [
    {
     "data": {
      "text/html": [
       "<table border=\"1\" class=\"dataframe\">\n",
       "  <thead>\n",
       "    <tr style=\"text-align: right;\">\n",
       "      <th></th>\n",
       "      <th>composer</th>\n",
       "      <th>console</th>\n",
       "      <th>episode_number</th>\n",
       "      <th>game</th>\n",
       "      <th>producer</th>\n",
       "      <th>title</th>\n",
       "      <th>year</th>\n",
       "    </tr>\n",
       "  </thead>\n",
       "  <tbody>\n",
       "    <tr>\n",
       "      <th>2484</th>\n",
       "      <td> unknown</td>\n",
       "      <td> Mega Drive (China)</td>\n",
       "      <td> 61</td>\n",
       "      <td> Lion King II</td>\n",
       "      <td> unknown</td>\n",
       "      <td> Qin's Tomb</td>\n",
       "      <td> unknown</td>\n",
       "    </tr>\n",
       "  </tbody>\n",
       "</table>"
      ],
      "text/plain": [
       "<IPython.core.display.HTML object>"
      ]
     },
     "execution_count": 175,
     "metadata": {},
     "output_type": "execute_result"
    }
   ],
   "source": [
    "HTML(clean_tracks_df[clean_tracks_df['year'].str.lower()=='unknown'].to_html())"
   ]
  },
  {
   "cell_type": "code",
   "execution_count": null,
   "metadata": {
    "collapsed": true
   },
   "outputs": [],
   "source": []
  },
  {
   "cell_type": "markdown",
   "metadata": {},
   "source": [
    "Now what about consoles?  There seems to be a wide variety here."
   ]
  },
  {
   "cell_type": "code",
   "execution_count": 177,
   "metadata": {
    "collapsed": false
   },
   "outputs": [
    {
     "data": {
      "text/plain": [
       "{u'arcade',\n",
       " u'arcade (japan)',\n",
       " u'atari 2600',\n",
       " u'atari jaguar',\n",
       " u'compile',\n",
       " u'dreamcast',\n",
       " u'dreamcast (japan)',\n",
       " u'famicom',\n",
       " u'famicom disk system',\n",
       " u'game boy',\n",
       " u'game boy (europe)',\n",
       " u'game boy (japan)',\n",
       " u'game gear',\n",
       " u'game gear (europe)',\n",
       " u'game gear (japan)',\n",
       " u'gamecube',\n",
       " u'genesis',\n",
       " u'koei',\n",
       " u'konami',\n",
       " u'lynx',\n",
       " u'mega drive',\n",
       " u'mega drive (australia)',\n",
       " u'mega drive (china)',\n",
       " u'mega drive (europe)',\n",
       " u'mega drive (sega net work system)',\n",
       " u'mega drive (taiwan)',\n",
       " u'mega drive meganet',\n",
       " u'n64',\n",
       " u'neo geo',\n",
       " u'neo geo (japan)',\n",
       " u'nes',\n",
       " u'nes (europe)',\n",
       " u'nintendo ds',\n",
       " u'panasonic 3do',\n",
       " u'pc engine',\n",
       " u'playstation',\n",
       " u'ps2',\n",
       " u'sega 32x',\n",
       " u'sega cd',\n",
       " u'sega mark iii',\n",
       " u'sega master system',\n",
       " u'sega master system (europe)',\n",
       " u'snes',\n",
       " u'snes (europe)',\n",
       " u'super famicom',\n",
       " u'super famicom satellaview',\n",
       " u'super famicom/sufami turbo',\n",
       " u'super nintendo',\n",
       " u'supergrafx',\n",
       " u'turbografix-16',\n",
       " u'turbografx-16',\n",
       " u'turbografx-cd',\n",
       " u'wii',\n",
       " u'wiiware',\n",
       " u'xbox 360 (japan)'}"
      ]
     },
     "execution_count": 177,
     "metadata": {},
     "output_type": "execute_result"
    }
   ],
   "source": [
    "set(clean_tracks_df.console.str.lower())"
   ]
  },
  {
   "cell_type": "markdown",
   "metadata": {},
   "source": [
    "Let's start by removing the differentiation between countries.  Let's also differentiate between the japanese and american names of consoles.  We'll do this with the following function."
   ]
  },
  {
   "cell_type": "code",
   "execution_count": 178,
   "metadata": {
    "collapsed": true
   },
   "outputs": [],
   "source": [
    "console_map = {u'arcade':'arcade',\n",
    "             u'arcade (japan)':'arcade',\n",
    "             u'atari 2600':'atari 2600',\n",
    "             u'atari jaguar':'atari jaguar',\n",
    "             u'dreamcast':'dreamcast',\n",
    "             u'dreamcast (japan)':'dreamcast',\n",
    "             u'famicom':'famicom',\n",
    "             u'famicom disk system':'famicom',\n",
    "             u'game boy':'game boy',\n",
    "             u'game boy (europe)':'game boy',\n",
    "             u'game boy (japan)':'game boy',\n",
    "             u'game gear':'game gear',\n",
    "             u'game gear (europe)':'game gear',\n",
    "             u'game gear (japan)':'game gear',\n",
    "             u'gamecube':'gamecube',\n",
    "             u'genesis':'mega drive',\n",
    "             u'lynx':'lynx',\n",
    "             u'mega drive':'mega drive',\n",
    "             u'mega drive (australia)':'mega drive',\n",
    "             u'mega drive (china)':'mega drive',\n",
    "             u'mega drive (europe)':'mega drive',\n",
    "             u'mega drive (sega net work system)':'mega drive',\n",
    "             u'mega drive (taiwan)':'mega drive',\n",
    "             u'mega drive meganet':'mega drive',\n",
    "             u'n64':'n64',\n",
    "             u'neo geo':'neo geo',\n",
    "             u'neo geo (japan)':'neo geo',\n",
    "             u'nes':'famicom',\n",
    "             u'nes (europe)':'famicom',\n",
    "             u'nintendo ds':'nintendo ds',\n",
    "             u'panasonic 3do':'3do',\n",
    "             u'pc engine':'pc engine',\n",
    "             u'playstation':'playstation',\n",
    "             u'ps2':'playstation 2',\n",
    "             u'sega 32x':'sega 32x',\n",
    "             u'sega cd':'sega cd',\n",
    "             u'sega mark iii':'mark iii',\n",
    "             u'sega master system':'master system',\n",
    "             u'sega master system (europe)':'master system',\n",
    "             u'snes':'super famicom',\n",
    "             u'snes (europe)':'super famicom',\n",
    "             u'super famicom':'super famicom',\n",
    "             u'super famicom satellaview':'super famicom',\n",
    "             u'super famicom/sufami turbo':'super famicom',\n",
    "             u'super nintendo':'super famicom',\n",
    "             u'supergrafx':'supergrafx',\n",
    "             u'turbografix-16':'pc engine',\n",
    "             u'turbografx-16':'pc engine',\n",
    "             u'turbografx-cd':'pc engine cd',\n",
    "             u'wii':'wii',\n",
    "             u'wiiware':'wii',\n",
    "             u'xbox 360 (japan)':'xbox 360'}\n",
    "\n"
   ]
  },
  {
   "cell_type": "code",
   "execution_count": null,
   "metadata": {
    "collapsed": true
   },
   "outputs": [],
   "source": []
  }
 ],
 "metadata": {
  "kernelspec": {
   "display_name": "Python 2",
   "language": "python",
   "name": "python2"
  },
  "language_info": {
   "codemirror_mode": {
    "name": "ipython",
    "version": 2
   },
   "file_extension": ".py",
   "mimetype": "text/x-python",
   "name": "python",
   "nbconvert_exporter": "python",
   "pygments_lexer": "ipython2",
   "version": "2.7.9"
  }
 },
 "nbformat": 4,
 "nbformat_minor": 0
}
