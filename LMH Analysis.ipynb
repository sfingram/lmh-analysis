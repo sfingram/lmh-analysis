{
 "cells": [
  {
   "cell_type": "markdown",
   "metadata": {},
   "source": [
    "# An analysis of tracks played by the Legacy Music Hour\n",
    "\n",
    "First, we will pull all of the authorship data from the Blogger website."
   ]
  },
  {
   "cell_type": "code",
   "execution_count": 5,
   "metadata": {
    "collapsed": true
   },
   "outputs": [],
   "source": [
    "import re\n",
    "def lmh_standardize_whitespace(text):\n",
    "    \"\"\" There is some nonuniformity in the episode descriptions of line breaks.\n",
    "        some this routine standardizes the line breaks to simply be newlines\n",
    "        while this breaks the html for display, it helps with parsing.\"\"\"\n",
    "    # first replace <br />\\n -> <br />\n",
    "    text = re.sub('<br\\s*?/>\\n', '<br />', text)\n",
    "    # then replace <br /> -> \\n\n",
    "    return re.sub('<br\\s*?/>', '\\n', text)\n"
   ]
  },
  {
   "cell_type": "code",
   "execution_count": 6,
   "metadata": {
    "collapsed": false
   },
   "outputs": [],
   "source": [
    "from bs4 import BeautifulSoup\n",
    "import urllib2\n",
    "import json\n",
    "import codecs\n",
    "\n",
    "# store data in a temporary file (need to use codec because of weird chars in the input)\n",
    "fout = codecs.open(\"lmh_data.txt\",'w','utf-8')\n",
    "\n",
    "# craft a query to pull the entire set of blogger entries\n",
    "response = urllib2.urlopen('http://legacymusichour.blogspot.ca/search?updated-min=2011-01-01T00:00:00-08:00&updated-max=2015-08-01T00:00:00-08:00')\n",
    "\n",
    "# pull the data\n",
    "html = response.read().decode('utf-8')\n",
    "response.close()\n",
    "\n",
    "# parse the html\n",
    "soup = BeautifulSoup(lmh_standardize_whitespace(html))\n",
    "has_older = ( soup.find(\"a\",class_=\"blog-pager-older-link\") != None )\n",
    "while has_older:\n",
    "    \n",
    "    for outer_p in soup.find_all(\"div\",class_=\"post-outer\"):\n",
    "        title_text = outer_p.find(\"h3\",class_=\"post-title entry-title\")\n",
    "        if title_text != None and \"Episode\" in title_text.text:\n",
    "            episode_number = ''.join([c for c in title_text.text.strip().split(':')[0] if c.isdigit()])\n",
    "            title_text.text.strip()\n",
    "            rawlist = [i.strip().split(' - ') for i in outer_p.text.strip().split('\\n\\n') if ' - ' in i and len(i.split(' - '))>=6]\n",
    "            if len(rawlist) > 0:\n",
    "                for j in rawlist:\n",
    "                    if j[1] != 'Composer':\n",
    "                        fout.write(episode_number+';'+(';'.join(j))+'\\n')\n",
    "\n",
    "    has_older = ( soup.find(\"a\",text=\"Older Posts\") != None )\n",
    "    if has_older:\n",
    "        response = urllib2.urlopen(soup.find(\"a\",text=\"Older Posts\").get('href'))\n",
    "        html = response.read().decode('utf-8')\n",
    "        response.close()\n",
    "        soup = BeautifulSoup(html)\n",
    "\n",
    "fout.close()"
   ]
  },
  {
   "cell_type": "markdown",
   "metadata": {},
   "source": [
    "### Cleaning and Normalizing the data\n",
    "\n",
    "The above script pulls the data with some errors. We need first clean the entries."
   ]
  },
  {
   "cell_type": "code",
   "execution_count": null,
   "metadata": {
    "collapsed": true
   },
   "outputs": [],
   "source": [
    "# first let's look at the episode numbers\n",
    "\n",
    "\n",
    "\n"
   ]
  }
 ],
 "metadata": {
  "kernelspec": {
   "display_name": "Python 2",
   "language": "python",
   "name": "python2"
  },
  "language_info": {
   "codemirror_mode": {
    "name": "ipython",
    "version": 2
   },
   "file_extension": ".py",
   "mimetype": "text/x-python",
   "name": "python",
   "nbconvert_exporter": "python",
   "pygments_lexer": "ipython2",
   "version": "2.7.9"
  }
 },
 "nbformat": 4,
 "nbformat_minor": 0
}
