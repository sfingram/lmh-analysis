{
 "cells": [
  {
   "cell_type": "markdown",
   "metadata": {},
   "source": [
    "# An analysis of tracks played by the Legacy Music Hour\n",
    "\n",
    "The Legacy Music Hour is a podcast devoted to tracks from the 8-bit and 16-bit consoles.  It is hosted by two comedians, Rob F. Switch and Brent Weinbach who show real enthusiasm for the music and I have a lot of affection for the show.  The podcast has over 150 episodes, showcasing well over 2000 tracks.  \n",
    "\n",
    "Before every episode, the hosts upload its full track listing, with game, system, and composer information.  I decided to write some code to pull all this information and see what this data says.\n",
    "\n",
    "First, we will pull all of the track data from the LMH Blogger website."
   ]
  },
  {
   "cell_type": "code",
   "execution_count": 5,
   "metadata": {
    "collapsed": true
   },
   "outputs": [],
   "source": [
    "import re\n",
    "def lmh_standardize_whitespace(text):\n",
    "    \"\"\" \n",
    "    There is some nonuniformity in the episode descriptions of line breaks.\n",
    "    some this routine standardizes the line breaks to simply be newlines\n",
    "    while this breaks the html for display, it helps with parsing.\n",
    "    \"\"\"\n",
    "    # first replace <br />\\n -> <br />\n",
    "    text = re.sub('<br\\s*?/>\\n', '<br />', text)\n",
    "    # then replace <br /> -> \\n\n",
    "    return re.sub('<br\\s*?/>', '\\n', text)\n"
   ]
  },
  {
   "cell_type": "code",
   "execution_count": 8,
   "metadata": {
    "collapsed": false
   },
   "outputs": [],
   "source": [
    "import datetime\n",
    "def blogger_url_gen(baseurl,start_date,end_date):\n",
    "    \"\"\"\n",
    "    Given a start and end datetime, generate a blogger page query.\n",
    "    \"\"\"\n",
    "    if not end_date:\n",
    "        end_date = datetime.datetime.now()\n",
    "    start_str = start_date.strftime(\"%Y-%M-%d\")\n",
    "    end_str = end_date.strftime(\"%Y-%M-%d\")\n",
    "    return baseurl+'/search?updated-min='+start_str+'T00:00:00-08:00&updated-max='+end_str+'T00:00:00-08:00'\n",
    "\n",
    "def lmh_url_gen(start_date,end_date=None):\n",
    "    return blogger_url_gen('http://legacymusichour.blogspot.ca/',start_date,end_date)"
   ]
  },
  {
   "cell_type": "code",
   "execution_count": 21,
   "metadata": {
    "collapsed": false
   },
   "outputs": [],
   "source": [
    "from bs4 import BeautifulSoup\n",
    "import urllib2\n",
    "import json\n",
    "import contextlib\n",
    "\n",
    "def normalize_track(episode_number,track_fields):\n",
    "    \"\"\"\n",
    "    Given a track which has (potentially) many composers, \n",
    "    generate a data point per composer.\n",
    "    \"\"\"\n",
    "    for composer in track_fields[1].split(','):\n",
    "        yield {'episode_number':episode_number,\n",
    "               'game':track_fields[0],\n",
    "               'composer':composer,\n",
    "               'title':track_fields[2],\n",
    "               'producer':track_fields[3],\n",
    "               'console':track_fields[4],\n",
    "               'year':track_fields[5]}\n",
    "\n",
    "def parse_tracks(soup):\n",
    "    \"\"\"\n",
    "    Parse the soup of an LMH blogger page, pulling out the tracks\n",
    "    \"\"\"\n",
    "    for outer_p in soup.find_all(\"div\",class_=\"post-outer\"):\n",
    "        title_text = outer_p.find(\"h3\",class_=\"post-title entry-title\")\n",
    "        if title_text != None and \"Episode\" in title_text.text:\n",
    "            episode_number = ''.join([c \n",
    "                                      for c in title_text.text.strip().split(':')[0] \n",
    "                                      if c.isdigit()])\n",
    "            title_text.text.strip()\n",
    "            rawlist = [\n",
    "                i.strip().split(' - ') \n",
    "                for i in outer_p.text.strip().split('\\n\\n') \n",
    "                if ' - ' in i and len(i.split(' - '))>=6]\n",
    "            if len(rawlist) > 0:\n",
    "                for j in rawlist:\n",
    "                    if j[1] != 'Composer':\n",
    "                        yield episode_number+';'+(';'.join(j))+'\\n'\n",
    "\n",
    "def compoyors():\n",
    "    \"\"\"\n",
    "    Generator for all the tracks on LMH\n",
    "    \"\"\"    \n",
    "    data_url = lmh_url_gen(datetime.datetime(year=2011,month=1,day=1))\n",
    "    has_older_posts = True\n",
    "    while has_older_posts:\n",
    "        with contextlib.closing(urllib2.urlopen(data_url)) as response:        \n",
    "            html = response.read().decode('utf-8')\n",
    "            soup = BeautifulSoup(lmh_standardize_whitespace(html))\n",
    "            for track in parse_tracks(soup):\n",
    "                yield track                \n",
    "            older_posts = soup.find(\"a\",text=\"Older Posts\")\n",
    "            if older_posts:\n",
    "                has_older_posts = True\n",
    "                data_url = soup.find(\"a\",text=\"Older Posts\").get('href')\n",
    "            else:\n",
    "                has_older_posts = False"
   ]
  },
  {
   "cell_type": "code",
   "execution_count": 23,
   "metadata": {
    "collapsed": false
   },
   "outputs": [],
   "source": [
    "tracks = [track for track in compoyors()]"
   ]
  },
  {
   "cell_type": "markdown",
   "metadata": {},
   "source": [
    "### Cleaning and Normalizing the data\n",
    "\n",
    "The above script pulls the data with some errors. We need first clean the entries."
   ]
  },
  {
   "cell_type": "code",
   "execution_count": null,
   "metadata": {
    "collapsed": true
   },
   "outputs": [],
   "source": [
    "# first let's look at the episode numbers\n",
    "\n",
    "\n",
    "\n"
   ]
  }
 ],
 "metadata": {
  "kernelspec": {
   "display_name": "Python 2",
   "language": "python",
   "name": "python2"
  },
  "language_info": {
   "codemirror_mode": {
    "name": "ipython",
    "version": 2
   },
   "file_extension": ".py",
   "mimetype": "text/x-python",
   "name": "python",
   "nbconvert_exporter": "python",
   "pygments_lexer": "ipython2",
   "version": "2.7.9"
  }
 },
 "nbformat": 4,
 "nbformat_minor": 0
}
